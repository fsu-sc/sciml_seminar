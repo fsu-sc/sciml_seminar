{
 "cells": [
  {
   "cell_type": "code",
   "execution_count": null,
   "metadata": {},
   "outputs": [],
   "source": [
    "%load_ext autoreload\n",
    "%autoreload 2"
   ]
  },
  {
   "cell_type": "code",
   "execution_count": null,
   "metadata": {},
   "outputs": [],
   "source": [
    "## Code based from the work made here https://github.com/madagra/basic-pinn/blob/main/burgers_equation_1d.py\n",
    "# Runs with Python 3.8.8\n",
    "from typing import Callable\n",
    "\n",
    "import matplotlib.pyplot as plt\n",
    "import numpy as np\n",
    "from numpy.random import random\n",
    "import torch\n",
    "from torch import nn, tensor\n",
    "import time as t\n",
    "# from functools import partial\n",
    "import Fall_2022_Burgers_Equation_functions as impl\n",
    "from DictX import *"
   ]
  },
  {
   "cell_type": "code",
   "execution_count": null,
   "metadata": {},
   "outputs": [],
   "source": [
    "dct = GlobDct()\n",
    "dct.device = \"cuda\" if torch.cuda.is_available() else \"cpu\""
   ]
  },
  {
   "cell_type": "code",
   "execution_count": null,
   "metadata": {},
   "outputs": [],
   "source": [
    "# Driver\n",
    "dct.x_domain = [-1., 1.];\n",
    "dct.n_x = 50 # 100\n",
    "dct.t_domain = [0.0, 1.];\n",
    "dct.n_t = 50  # 100\n",
    "dct.x_np = np.linspace(dct.x_domain[0], dct.x_domain[1], dct.n_x, dtype=np.float32)\n",
    "dct.t_np = np.linspace(dct.t_domain[0], dct.t_domain[1], dct.n_t, dtype=np.float32)\n",
    "\n",
    "#impl.plot_domain(**dct)\n",
    "fig, ax = plt.subplots(1,1, figsize=(6, 6))\n",
    "ax = impl.plot_locations(ax, x=dct.x_np, t=dct.t_np, **dct, title=f\"Training points {dct.n_x*dct.n_t} --> {dct.n_x*dct.n_t*3}\")\n",
    "plt.show()"
   ]
  },
  {
   "cell_type": "code",
   "execution_count": null,
   "metadata": {},
   "outputs": [],
   "source": [
    "dct.max_epochs = 50  # 5_000 works\n",
    "dct.lr = 0.025\n",
    "dct.U_nn_trained = impl.wrap_train_model(**dct)"
   ]
  },
  {
   "cell_type": "code",
   "execution_count": null,
   "metadata": {},
   "outputs": [],
   "source": [
    "dct.n_x_test = 50\n",
    "dct.n_t_test = 50\n",
    "dct.x_domain_test = [-1., 1.];\n",
    "dct.t_domain_test = [0.0, 1.];\n",
    "impl.evaluate_model(**dct)\n",
    "\n",
    "# Sets dct.u2d\n",
    "impl.plot_evaluation(**dct)"
   ]
  },
  {
   "cell_type": "code",
   "execution_count": null,
   "metadata": {},
   "outputs": [],
   "source": [
    "impl.plot_intermediate_values(**dct)"
   ]
  },
  {
   "cell_type": "code",
   "execution_count": null,
   "metadata": {},
   "outputs": [],
   "source": [
    "## Evaluating outside the trained domain\n",
    "## --------- Evaluation ---------------\n",
    "dct.n_x_test = 50  # 100\n",
    "dct.n_t_test = 50  # 100\n",
    "dct.x_domain_test = [-1., 1.];\n",
    "dct.t_domain_test = [1., 2.];\n",
    "\n",
    "impl.plot_extrapolated_solution(**dct)\n",
    "#==================================================================================================="
   ]
  }
 ],
 "metadata": {
  "kernelspec": {
   "display_name": "base",
   "language": "python",
   "name": "python3"
  },
  "language_info": {
   "codemirror_mode": {
    "name": "ipython",
    "version": 3
   },
   "file_extension": ".py",
   "mimetype": "text/x-python",
   "name": "python",
   "nbconvert_exporter": "python",
   "pygments_lexer": "ipython3",
   "version": "3.8.8"
  },
  "orig_nbformat": 4,
  "vscode": {
   "interpreter": {
    "hash": "7f5c9265385f2c633a38f7eaff7065764771828931e8b07dc691c3444c45ab1c"
   }
  }
 },
 "nbformat": 4,
 "nbformat_minor": 2
}
