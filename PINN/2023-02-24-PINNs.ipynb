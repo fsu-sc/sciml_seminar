{
 "cells": [
  {
   "cell_type": "code",
   "execution_count": 1,
   "id": "1eac84d2",
   "metadata": {},
   "outputs": [],
   "source": [
    "%load_ext autoreload\n",
    "%autoreload 2"
   ]
  },
  {
   "cell_type": "code",
   "execution_count": 2,
   "id": "e74297b3-1b15-4425-bfc9-20edab5e9372",
   "metadata": {},
   "outputs": [],
   "source": [
    "import numpy as np\n",
    "from ipywidgets import interact, interactive, fixed, interact_manual\n",
    "import matplotlib.pyplot as plt\n",
    "import torch\n",
    "from torch import nn\n",
    "from  typing import Callable\n",
    "from functools import partial"
   ]
  },
  {
   "cell_type": "code",
   "execution_count": 3,
   "id": "8176a4c6-a317-4bec-a7d1-45bb353654cb",
   "metadata": {},
   "outputs": [],
   "source": [
    "TOTAL_TIME = 6.0"
   ]
  },
  {
   "cell_type": "code",
   "execution_count": 4,
   "id": "f4fc461c-96e5-4d90-9d29-2a6ae39659d0",
   "metadata": {},
   "outputs": [],
   "source": [
    "class PINN(nn.Module):\n",
    "    \"\"\"Simple neural network accepting two features as input and returning a single output\n",
    "\n",
    "    In the context of PINNs, the neural network is used as universal function approximator\n",
    "    to approximate the solution of the differential equation\n",
    "\n",
    "    num_hidden: number of hiddent layers (in addition to input and output layers)\n",
    "    dim_hidden: number of neurons in each hidden layer\n",
    "    \"\"\"\n",
    "    def __init__(self, num_hidden: int, dim_hidden: int, act=nn.Tanh()):\n",
    "        super(PINN, self).__init__()\n",
    "\n",
    "        # input t into the network\n",
    "        self.layer_in = nn.Linear(1, dim_hidden)\n",
    "        self.layer_out = nn.Linear(dim_hidden, 1)\n",
    "\n",
    "        num_middle = num_hidden - 1\n",
    "        self.middle_layers = nn.ModuleList(\n",
    "            [nn.Linear(dim_hidden, dim_hidden) for _ in range(num_middle)]\n",
    "        )\n",
    "        self.act = act\n",
    "\n",
    "    def forward(self, t):\n",
    "        t = t.reshape(-1, 1)\n",
    "        out = self.act(self.layer_in(t))\n",
    "        for layer in self.middle_layers:\n",
    "            out = self.act(layer(out))\n",
    "        return self.layer_out(out)"
   ]
  },
  {
   "cell_type": "code",
   "execution_count": 5,
   "id": "839d43b8-c52a-4224-a0d1-32db9bf1b4a5",
   "metadata": {},
   "outputs": [],
   "source": [
    "def f(arr: torch.tensor, t: torch.Tensor) -> torch.Tensor:\n",
    "    \"\"\"Compute the value of the approximate solution from the NN model\"\"\"\n",
    "    return arr\n",
    "\n",
    "\n",
    "def df(output: torch.Tensor, input: torch.Tensor, order: int = 1) -> torch.Tensor:\n",
    "    \"\"\"Compute neural network derivative with respect to input features using PyTorch autograd engine\"\"\"\n",
    "    df_value = output\n",
    "    for _ in range(order):\n",
    "        df_value = torch.autograd.grad(\n",
    "            df_value,\n",
    "            input,\n",
    "            grad_outputs=torch.ones_like(df_value),\n",
    "            create_graph=True,\n",
    "        )[0]\n",
    "\n",
    "    return df_value\n",
    "\n",
    "\n",
    "def dfdt(dep_var, t: torch.Tensor, order: int=1):\n",
    "    \"\"\"Derivative with respect to the time variable of arbitrary order\"\"\"\n",
    "    return df(dep_var, t, order=order)"
   ]
  },
  {
   "cell_type": "code",
   "execution_count": 6,
   "id": "b136cb20-3711-4dad-b937-0347c575a63f",
   "metadata": {},
   "outputs": [
    {
     "data": {
      "text/plain": [
       "tensor([4., 6.], grad_fn=<AddBackward0>)"
      ]
     },
     "execution_count": 6,
     "metadata": {},
     "output_type": "execute_result"
    }
   ],
   "source": [
    "tt = torch.tensor\n",
    "t = tt([1.,2.,3.], requires_grad=True)\n",
    "t1 = t[1:]\n",
    "# u = torch.sum(t*t)\n",
    "u = torch.sum(t1*t1)\n",
    "dfdt(u,t1)"
   ]
  },
  {
   "cell_type": "code",
   "execution_count": 9,
   "id": "22901a31-3f8d-4e17-8e51-539e3c7ff119",
   "metadata": {},
   "outputs": [],
   "source": [
    "def compute_loss(\n",
    "    nn_approximator: int, x: torch.Tensor=None, t: torch.Tensor=None\n",
    ") -> torch.float:\n",
    "    \"\"\"Compute the full loss function as interior loss + boundary loss\n",
    "\n",
    "    This custom loss function is fully defined with differentiable tensors therefore\n",
    "    the .backward() method can be applied to it\n",
    "    \"\"\"\n",
    "\n",
    "    # PDE residual\n",
    "    u   = nn_approximator(t) #f(nn_approximator, t)\n",
    "    # u = torch.sum((t*t)[1:])\n",
    "    # print(\"shape t[1:]: \", t[1:].shape)\n",
    "    # print(\"shape u: \", u.shape)\n",
    "    # return -1.\n",
    "    interior_loss = dfdt(u,t).reshape(-1,1) + u\n",
    "\n",
    "    u_initial = torch.tensor([1.])  # initial solution\n",
    "    initial_loss_f = u[0,0] - u_initial\n",
    "\n",
    "    # obtain the final MSE loss by averaging each loss term and summing them up\n",
    "    final_loss = interior_loss.pow(2).mean()  \\\n",
    "               + initial_loss_f.pow(2).mean() \n",
    "\n",
    "    return final_loss"
   ]
  },
  {
   "cell_type": "code",
   "execution_count": 18,
   "id": "df74541d-2bdd-4377-97ab-d7a030ffc333",
   "metadata": {},
   "outputs": [],
   "source": [
    "def train_model(\n",
    "    nn_approximator: PINN,\n",
    "    loss_fn: Callable,\n",
    "    learning_rate: int = 0.001,\n",
    "    max_epochs: int = 10, \n",
    "    nt=20,\n",
    "    t_domain=[0., 1.]\n",
    "    ) -> PINN:\n",
    "    \n",
    "    losses = []\n",
    "\n",
    "    optimizer = torch.optim.Adam(nn_approximator.parameters(), lr=learning_rate, weight_decay=0.005)\n",
    "    #optimizer = torch.optim.SGD(nn_approximator.parameters(), lr=learning_rate)\n",
    "    for epoch in range(max_epochs):\n",
    "\n",
    "        #t = torch.linspace(t_domain[0], t_domain[1], steps=nt, requires_grad=True)\n",
    "        # Different set of t every epoch\n",
    "        t = torch.rand(nt, requires_grad=True) * (t_domain[1] - t_domain[0]) + t_domain[0]\n",
    "        t[0] = 0.0\n",
    "        loss_fn = partial(compute_loss, t=t)\n",
    "\n",
    "        try:\n",
    "            optimizer.zero_grad()\n",
    "            loss: torch.Tensor = loss_fn(nn_approximator)\n",
    "            losses.append(loss.detach())\n",
    "            loss.backward()  # was not in orig\n",
    "            optimizer.step()\n",
    "\n",
    "            #if epoch % 10 == 0:\n",
    "                #print(f\"Epoch: {epoch} - Loss: {float(loss):>7f}\")\n",
    "\n",
    "        # If type ctrl-C on the keyboard, this loop is exited, and then the program continues\n",
    "        except KeyboardInterrupt:\n",
    "            break\n",
    "\n",
    "    return nn_approximator, losses"
   ]
  },
  {
   "cell_type": "code",
   "execution_count": 12,
   "id": "9aac0a62-c701-45cf-a538-64f531f8e30f",
   "metadata": {},
   "outputs": [],
   "source": [
    "def plot_solution(nn_trained: PINN, t: torch.Tensor, losses):\n",
    "    fig, axes = plt.subplots(1, 2, figsize=(10,4))\n",
    "    axes = axes.reshape(-1)\n",
    "    ax = axes[0]\n",
    "    ax.clear()\n",
    "    \n",
    "    # Compoute exact solution at 100 points as a curve\n",
    "    exact_sol = torch.exp(-t.detach())\n",
    "    ax.scatter(t.detach().reshape(-1), nn_trained(t).detach().reshape(-1), label='approx')\n",
    "    ax.scatter(t.detach().reshape(-1), exact_sol, label='exact')\n",
    "    ax.legend()\n",
    "    \n",
    "    ax = axes[1]\n",
    "    ax.clear()\n",
    "    ax.plot(losses)\n",
    "    ax.set_title(\"loss10\")\n",
    "    ax.set_xlabel(\"Epoch\")\n",
    "    ax.set_ylabel(\"$log_{10} (loss)$\")\n",
    "    ax.set_yscale(\"log\")\n",
    "    ax.grid(True)\n",
    "    plt.tight_layout()\n",
    "    plt.show()"
   ]
  },
  {
   "cell_type": "code",
   "execution_count": 19,
   "id": "1c0e59ad-c73c-4b5e-9a3b-785d10549b7b",
   "metadata": {},
   "outputs": [
    {
     "data": {
      "application/vnd.jupyter.widget-view+json": {
       "model_id": "ef09b944c4854962bca59facf3d41186",
       "version_major": 2,
       "version_minor": 0
      },
      "text/plain": [
       "interactive(children=(IntSlider(value=200, description='nb_epochs', max=600, min=-200), Dropdown(description='…"
      ]
     },
     "metadata": {},
     "output_type": "display_data"
    }
   ],
   "source": [
    "@interact(nb_epochs=200, lr=[.001,.01,.1])\n",
    "def execute_run(nb_epochs, lr, tmax=6.0, nb_hid_layers=3, pts_per_layer=30, nb_points=20, is_random=True):\n",
    "    t_domain = [0.0, tmax];\n",
    "    nt = nb_points\n",
    "\n",
    "    # Every iteration, I should choose a random selection of t\n",
    "    t_raw = torch.linspace(0., tmax, steps=nt, requires_grad=True)\n",
    "    t = t_raw\n",
    "\n",
    "    args = {\"num_hidden\": nb_hid_layers, \"dim_hidden\": pts_per_layer}\n",
    "    nn_approximator = PINN(**args)\n",
    "\n",
    "    # Check that autograd derivatives match finite-difference derivatives\n",
    "    # assert check_gradient(nn_approximator, x, t)\n",
    "\n",
    "    compute_loss(nn_approximator, t=t)\n",
    "\n",
    "    # train the PINN\n",
    "    loss_fn = partial(compute_loss, t=t)\n",
    "    nn_approximator_trained, losses = train_model(\n",
    "        nn_approximator, loss_fn=loss_fn, learning_rate=lr, max_epochs=nb_epochs, nt=nt, t_domain=t_domain\n",
    "    )\n",
    "    plot_solution(nn_approximator_trained, t, losses)"
   ]
  },
  {
   "cell_type": "code",
   "execution_count": null,
   "id": "86fdd4ad",
   "metadata": {},
   "outputs": [],
   "source": []
  },
  {
   "cell_type": "code",
   "execution_count": null,
   "id": "236db110-747d-4371-aed9-16b7dfb695fa",
   "metadata": {},
   "outputs": [],
   "source": []
  },
  {
   "cell_type": "code",
   "execution_count": null,
   "id": "8d8d522f-8f8c-43f0-97bc-51108a101199",
   "metadata": {},
   "outputs": [],
   "source": []
  },
  {
   "cell_type": "code",
   "execution_count": null,
   "id": "accf6539-8472-4e8f-9b50-db6905803abe",
   "metadata": {},
   "outputs": [],
   "source": []
  }
 ],
 "metadata": {
  "kernelspec": {
   "display_name": "torch",
   "language": "python",
   "name": "python3"
  },
  "language_info": {
   "codemirror_mode": {
    "name": "ipython",
    "version": 3
   },
   "file_extension": ".py",
   "mimetype": "text/x-python",
   "name": "python",
   "nbconvert_exporter": "python",
   "pygments_lexer": "ipython3",
   "version": "3.8.13"
  },
  "vscode": {
   "interpreter": {
    "hash": "914e68cba619fe74b42e4b70c2b3c374f99c2313c108a3e9e8c33fa581cff15c"
   }
  },
  "widgets": {
   "application/vnd.jupyter.widget-state+json": {
    "state": {
     "0449b7aba21e4cf4ae0f86be97ed780c": {
      "model_module": "@jupyter-widgets/base",
      "model_module_version": "1.2.0",
      "model_name": "LayoutModel",
      "state": {}
     },
     "0762a59458a14bb6b9ec8841f04b9185": {
      "model_module": "@jupyter-widgets/base",
      "model_module_version": "1.2.0",
      "model_name": "LayoutModel",
      "state": {}
     },
     "0e708f4b706e4a6292a167613f1237c0": {
      "model_module": "@jupyter-widgets/base",
      "model_module_version": "1.2.0",
      "model_name": "LayoutModel",
      "state": {}
     },
     "0fbb97f943184508a2439553de80e096": {
      "model_module": "@jupyter-widgets/controls",
      "model_module_version": "1.5.0",
      "model_name": "IntSliderModel",
      "state": {
       "description": "pts_per_layer",
       "layout": "IPY_MODEL_514410d3985e482a82fda890d8481f47",
       "max": 90,
       "min": -30,
       "style": "IPY_MODEL_e582bac5be714f7aa1dc3b366a403826",
       "value": 30
      }
     },
     "107234caf06b43a48f163a654a8968f4": {
      "model_module": "@jupyter-widgets/controls",
      "model_module_version": "1.5.0",
      "model_name": "SliderStyleModel",
      "state": {
       "description_width": ""
      }
     },
     "164480e215ff47d2a75dfc27c1ce3509": {
      "model_module": "@jupyter-widgets/controls",
      "model_module_version": "1.5.0",
      "model_name": "IntSliderModel",
      "state": {
       "description": "nb_hid_layers",
       "layout": "IPY_MODEL_166bf73989564145870abfb766d86f7d",
       "max": 9,
       "min": -3,
       "style": "IPY_MODEL_ab61b3c8d5d74ff99f463902e86b42fb",
       "value": 3
      }
     },
     "166bf73989564145870abfb766d86f7d": {
      "model_module": "@jupyter-widgets/base",
      "model_module_version": "1.2.0",
      "model_name": "LayoutModel",
      "state": {}
     },
     "2319afdff52d4034bcf38383f9f50107": {
      "model_module": "@jupyter-widgets/controls",
      "model_module_version": "1.5.0",
      "model_name": "IntSliderModel",
      "state": {
       "description": "nb_epochs",
       "layout": "IPY_MODEL_ca65a6aecf7a4d2192f56f44d61c35c5",
       "max": 600,
       "min": -200,
       "style": "IPY_MODEL_4bdcb5608fd5430a8b8d9e511eeff2bd",
       "value": 200
      }
     },
     "2326dda11bc445b38e4bd2841d7bfec3": {
      "model_module": "@jupyter-widgets/controls",
      "model_module_version": "1.5.0",
      "model_name": "SliderStyleModel",
      "state": {
       "description_width": ""
      }
     },
     "23650a862de54b5a9ac34cc11f41ced3": {
      "model_module": "@jupyter-widgets/controls",
      "model_module_version": "1.5.0",
      "model_name": "IntSliderModel",
      "state": {
       "description": "nb_points",
       "layout": "IPY_MODEL_0762a59458a14bb6b9ec8841f04b9185",
       "max": 60,
       "min": -20,
       "style": "IPY_MODEL_83ea9bea2ba2442aba81e987821eb153",
       "value": 20
      }
     },
     "24eb0897611f431d9762a56e8d870fad": {
      "model_module": "@jupyter-widgets/base",
      "model_module_version": "1.2.0",
      "model_name": "LayoutModel",
      "state": {}
     },
     "2540f0653ff14e64bf456fa4be866e4f": {
      "model_module": "@jupyter-widgets/base",
      "model_module_version": "1.2.0",
      "model_name": "LayoutModel",
      "state": {}
     },
     "2e396564ced145c9936337d92a6c4480": {
      "model_module": "@jupyter-widgets/base",
      "model_module_version": "1.2.0",
      "model_name": "LayoutModel",
      "state": {}
     },
     "30a0e10dcf7043b8a5cb694675f64504": {
      "model_module": "@jupyter-widgets/base",
      "model_module_version": "1.2.0",
      "model_name": "LayoutModel",
      "state": {}
     },
     "3c55accfcf8945c3a1756377156d5ad3": {
      "model_module": "@jupyter-widgets/base",
      "model_module_version": "1.2.0",
      "model_name": "LayoutModel",
      "state": {}
     },
     "3e3b42d832cb457e824a191a5902935a": {
      "model_module": "@jupyter-widgets/controls",
      "model_module_version": "1.5.0",
      "model_name": "VBoxModel",
      "state": {
       "_dom_classes": [
        "widget-interact"
       ],
       "children": [
        "IPY_MODEL_2319afdff52d4034bcf38383f9f50107",
        "IPY_MODEL_c06de14b1c4045af800869b1908383c6",
        "IPY_MODEL_e7fcd22f42d848bf9901cf7dd3cab052",
        "IPY_MODEL_b958cbbdc18c4352a190cf7622945b30",
        "IPY_MODEL_79916f102ec54119a9f96eba2ff6ae24",
        "IPY_MODEL_23650a862de54b5a9ac34cc11f41ced3",
        "IPY_MODEL_c55a54b61f424c13a6515a1af155d10b",
        "IPY_MODEL_98332a3641a4411aa565602040386702"
       ],
       "layout": "IPY_MODEL_24eb0897611f431d9762a56e8d870fad"
      }
     },
     "453bc1a12aa64101b3769511c9f2fea3": {
      "model_module": "@jupyter-widgets/controls",
      "model_module_version": "1.5.0",
      "model_name": "SliderStyleModel",
      "state": {
       "description_width": ""
      }
     },
     "471f37370efe4a908c615a9c61958434": {
      "model_module": "@jupyter-widgets/controls",
      "model_module_version": "1.5.0",
      "model_name": "DescriptionStyleModel",
      "state": {
       "description_width": ""
      }
     },
     "4ac64aae98a14f368cb995a61818a075": {
      "model_module": "@jupyter-widgets/output",
      "model_module_version": "1.0.0",
      "model_name": "OutputModel",
      "state": {
       "layout": "IPY_MODEL_2e396564ced145c9936337d92a6c4480",
       "outputs": [
        {
         "data": {
          "text/plain": "<Figure size 432x288 with 0 Axes>"
         },
         "metadata": {},
         "output_type": "display_data"
        },
        {
         "data": {
          "image/png": "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\n",
          "text/plain": "<Figure size 720x288 with 2 Axes>"
         },
         "metadata": {
          "needs_background": "light"
         },
         "output_type": "display_data"
        }
       ]
      }
     },
     "4bdcb5608fd5430a8b8d9e511eeff2bd": {
      "model_module": "@jupyter-widgets/controls",
      "model_module_version": "1.5.0",
      "model_name": "SliderStyleModel",
      "state": {
       "description_width": ""
      }
     },
     "4eed06bb0c804e9cb9d28845322c4cbe": {
      "model_module": "@jupyter-widgets/base",
      "model_module_version": "1.2.0",
      "model_name": "LayoutModel",
      "state": {}
     },
     "514410d3985e482a82fda890d8481f47": {
      "model_module": "@jupyter-widgets/base",
      "model_module_version": "1.2.0",
      "model_name": "LayoutModel",
      "state": {}
     },
     "53ae3c6e3a5146ba85c8cf4fc279fe25": {
      "model_module": "@jupyter-widgets/controls",
      "model_module_version": "1.5.0",
      "model_name": "FloatSliderModel",
      "state": {
       "description": "tmax",
       "layout": "IPY_MODEL_0e708f4b706e4a6292a167613f1237c0",
       "max": 18,
       "min": -6,
       "step": 0.1,
       "style": "IPY_MODEL_6a80f69f29de413292750b25c2c5d928",
       "value": 5.9
      }
     },
     "557650b89ab14d10b407982490764328": {
      "model_module": "@jupyter-widgets/base",
      "model_module_version": "1.2.0",
      "model_name": "LayoutModel",
      "state": {}
     },
     "5b0d107931b445eda188605d7b6dd20b": {
      "model_module": "@jupyter-widgets/base",
      "model_module_version": "1.2.0",
      "model_name": "LayoutModel",
      "state": {}
     },
     "6316b5ad6ce64a36ba2ae97af0181f91": {
      "model_module": "@jupyter-widgets/controls",
      "model_module_version": "1.5.0",
      "model_name": "CheckboxModel",
      "state": {
       "description": "is_random",
       "disabled": false,
       "layout": "IPY_MODEL_bd09a6748e1e4a42bfd1396a92f1fef3",
       "style": "IPY_MODEL_7173e092083947ee8a8981db3792b370",
       "value": true
      }
     },
     "6712d35e97a543ecbb37c1d001d3e03a": {
      "model_module": "@jupyter-widgets/controls",
      "model_module_version": "1.5.0",
      "model_name": "SliderStyleModel",
      "state": {
       "description_width": ""
      }
     },
     "6a80f69f29de413292750b25c2c5d928": {
      "model_module": "@jupyter-widgets/controls",
      "model_module_version": "1.5.0",
      "model_name": "SliderStyleModel",
      "state": {
       "description_width": ""
      }
     },
     "6d70a741dee34208b3b581c63309140e": {
      "model_module": "@jupyter-widgets/controls",
      "model_module_version": "1.5.0",
      "model_name": "SliderStyleModel",
      "state": {
       "description_width": ""
      }
     },
     "7173e092083947ee8a8981db3792b370": {
      "model_module": "@jupyter-widgets/controls",
      "model_module_version": "1.5.0",
      "model_name": "DescriptionStyleModel",
      "state": {
       "description_width": ""
      }
     },
     "7857e6eb0f5e468ba1a5448e75daa219": {
      "model_module": "@jupyter-widgets/base",
      "model_module_version": "1.2.0",
      "model_name": "LayoutModel",
      "state": {}
     },
     "79916f102ec54119a9f96eba2ff6ae24": {
      "model_module": "@jupyter-widgets/controls",
      "model_module_version": "1.5.0",
      "model_name": "FloatSliderModel",
      "state": {
       "description": "lr",
       "layout": "IPY_MODEL_3c55accfcf8945c3a1756377156d5ad3",
       "max": 0.003,
       "min": -0.001,
       "step": 0.1,
       "style": "IPY_MODEL_453bc1a12aa64101b3769511c9f2fea3",
       "value": 0.001
      }
     },
     "83ea9bea2ba2442aba81e987821eb153": {
      "model_module": "@jupyter-widgets/controls",
      "model_module_version": "1.5.0",
      "model_name": "SliderStyleModel",
      "state": {
       "description_width": ""
      }
     },
     "964dcc0b9d3a4e3ab31e1110e5a6836a": {
      "model_module": "@jupyter-widgets/controls",
      "model_module_version": "1.5.0",
      "model_name": "FloatSliderModel",
      "state": {
       "description": "lr",
       "layout": "IPY_MODEL_30a0e10dcf7043b8a5cb694675f64504",
       "max": 0.003,
       "min": -0.001,
       "step": 0.1,
       "style": "IPY_MODEL_2326dda11bc445b38e4bd2841d7bfec3",
       "value": 0.001
      }
     },
     "98332a3641a4411aa565602040386702": {
      "model_module": "@jupyter-widgets/output",
      "model_module_version": "1.0.0",
      "model_name": "OutputModel",
      "state": {
       "layout": "IPY_MODEL_7857e6eb0f5e468ba1a5448e75daa219",
       "outputs": [
        {
         "data": {
          "text/plain": "<Figure size 432x288 with 0 Axes>"
         },
         "metadata": {},
         "output_type": "display_data"
        },
        {
         "data": {
          "image/png": "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\n",
          "text/plain": "<Figure size 720x288 with 2 Axes>"
         },
         "metadata": {
          "needs_background": "light"
         },
         "output_type": "display_data"
        }
       ]
      }
     },
     "ab61b3c8d5d74ff99f463902e86b42fb": {
      "model_module": "@jupyter-widgets/controls",
      "model_module_version": "1.5.0",
      "model_name": "SliderStyleModel",
      "state": {
       "description_width": ""
      }
     },
     "b958cbbdc18c4352a190cf7622945b30": {
      "model_module": "@jupyter-widgets/controls",
      "model_module_version": "1.5.0",
      "model_name": "IntSliderModel",
      "state": {
       "description": "pts_per_layer",
       "layout": "IPY_MODEL_4eed06bb0c804e9cb9d28845322c4cbe",
       "max": 90,
       "min": -30,
       "style": "IPY_MODEL_6712d35e97a543ecbb37c1d001d3e03a",
       "value": 30
      }
     },
     "bd09a6748e1e4a42bfd1396a92f1fef3": {
      "model_module": "@jupyter-widgets/base",
      "model_module_version": "1.2.0",
      "model_name": "LayoutModel",
      "state": {}
     },
     "c06de14b1c4045af800869b1908383c6": {
      "model_module": "@jupyter-widgets/controls",
      "model_module_version": "1.5.0",
      "model_name": "FloatSliderModel",
      "state": {
       "description": "tmax",
       "layout": "IPY_MODEL_f727dd1a0c884fbeb4a8a1cbb5f68588",
       "max": 18,
       "min": -6,
       "step": 0.1,
       "style": "IPY_MODEL_e0b9fb78079f4fdeb5aabfacf3742d97",
       "value": 6
      }
     },
     "c4b4832458e34cd6b5db3c17f451d3bf": {
      "model_module": "@jupyter-widgets/controls",
      "model_module_version": "1.5.0",
      "model_name": "VBoxModel",
      "state": {
       "_dom_classes": [
        "widget-interact"
       ],
       "children": [
        "IPY_MODEL_d676e21a94284343877668e70cbb228e",
        "IPY_MODEL_53ae3c6e3a5146ba85c8cf4fc279fe25",
        "IPY_MODEL_164480e215ff47d2a75dfc27c1ce3509",
        "IPY_MODEL_0fbb97f943184508a2439553de80e096",
        "IPY_MODEL_964dcc0b9d3a4e3ab31e1110e5a6836a",
        "IPY_MODEL_fd555b2e7e8043479c4f8c5ab5e343a2",
        "IPY_MODEL_6316b5ad6ce64a36ba2ae97af0181f91",
        "IPY_MODEL_4ac64aae98a14f368cb995a61818a075"
       ],
       "layout": "IPY_MODEL_f1bafa4e0c2140ab96f642c8b3185084"
      }
     },
     "c55a54b61f424c13a6515a1af155d10b": {
      "model_module": "@jupyter-widgets/controls",
      "model_module_version": "1.5.0",
      "model_name": "CheckboxModel",
      "state": {
       "description": "is_random",
       "disabled": false,
       "layout": "IPY_MODEL_0449b7aba21e4cf4ae0f86be97ed780c",
       "style": "IPY_MODEL_471f37370efe4a908c615a9c61958434",
       "value": true
      }
     },
     "ca65a6aecf7a4d2192f56f44d61c35c5": {
      "model_module": "@jupyter-widgets/base",
      "model_module_version": "1.2.0",
      "model_name": "LayoutModel",
      "state": {}
     },
     "d676e21a94284343877668e70cbb228e": {
      "model_module": "@jupyter-widgets/controls",
      "model_module_version": "1.5.0",
      "model_name": "IntSliderModel",
      "state": {
       "description": "nb_epochs",
       "layout": "IPY_MODEL_2540f0653ff14e64bf456fa4be866e4f",
       "max": 600,
       "min": -200,
       "style": "IPY_MODEL_f1de5e88c0f44ef9bd13e669e6a7d1b5",
       "value": 223
      }
     },
     "e0b9fb78079f4fdeb5aabfacf3742d97": {
      "model_module": "@jupyter-widgets/controls",
      "model_module_version": "1.5.0",
      "model_name": "SliderStyleModel",
      "state": {
       "description_width": ""
      }
     },
     "e582bac5be714f7aa1dc3b366a403826": {
      "model_module": "@jupyter-widgets/controls",
      "model_module_version": "1.5.0",
      "model_name": "SliderStyleModel",
      "state": {
       "description_width": ""
      }
     },
     "e7fcd22f42d848bf9901cf7dd3cab052": {
      "model_module": "@jupyter-widgets/controls",
      "model_module_version": "1.5.0",
      "model_name": "IntSliderModel",
      "state": {
       "description": "nb_hid_layers",
       "layout": "IPY_MODEL_557650b89ab14d10b407982490764328",
       "max": 9,
       "min": -3,
       "style": "IPY_MODEL_107234caf06b43a48f163a654a8968f4",
       "value": 3
      }
     },
     "f1bafa4e0c2140ab96f642c8b3185084": {
      "model_module": "@jupyter-widgets/base",
      "model_module_version": "1.2.0",
      "model_name": "LayoutModel",
      "state": {}
     },
     "f1de5e88c0f44ef9bd13e669e6a7d1b5": {
      "model_module": "@jupyter-widgets/controls",
      "model_module_version": "1.5.0",
      "model_name": "SliderStyleModel",
      "state": {
       "description_width": ""
      }
     },
     "f727dd1a0c884fbeb4a8a1cbb5f68588": {
      "model_module": "@jupyter-widgets/base",
      "model_module_version": "1.2.0",
      "model_name": "LayoutModel",
      "state": {}
     },
     "fd555b2e7e8043479c4f8c5ab5e343a2": {
      "model_module": "@jupyter-widgets/controls",
      "model_module_version": "1.5.0",
      "model_name": "IntSliderModel",
      "state": {
       "description": "nb_points",
       "layout": "IPY_MODEL_5b0d107931b445eda188605d7b6dd20b",
       "max": 60,
       "min": -20,
       "style": "IPY_MODEL_6d70a741dee34208b3b581c63309140e",
       "value": 20
      }
     }
    },
    "version_major": 2,
    "version_minor": 0
   }
  }
 },
 "nbformat": 4,
 "nbformat_minor": 5
}
